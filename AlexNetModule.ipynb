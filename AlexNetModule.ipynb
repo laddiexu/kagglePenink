{
 "cells": [
  {
   "cell_type": "code",
   "execution_count": null,
   "metadata": {
    "collapsed": true
   },
   "outputs": [],
   "source": [
    "from datetime import datetime \n",
    "import numpy as np\n",
    "import pandas as pd\n",
    "import math\n",
    "import cv2\n",
    "import keras\n",
    "from sklearn.preprocessing import OneHotEncoder\n",
    "from keras.models import Sequential\n",
    "from keras.layers import Conv2D,MaxPooling2D\n",
    "from keras.layers import Dropout,Dense,Activation,Flatten\n",
    "from keras.preprocessing import image\n",
    "from tqdm import tqdm"
   ]
  },
  {
   "cell_type": "code",
   "execution_count": null,
   "metadata": {
    "collapsed": true
   },
   "outputs": [],
   "source": [
    "df = pd.read_csv('./input/labels.csv')\n",
    "df.head()"
   ]
  },
  {
   "cell_type": "code",
   "execution_count": null,
   "metadata": {
    "collapsed": true
   },
   "outputs": [],
   "source": [
    "breeds = set(df['breed'])\n",
    "n = len(breeds)\n",
    "breed_to_number = dict(zip(breeds,range(n)))\n",
    "number_to_breed = dict(zip(range(n),breeds))"
   ]
  },
  {
   "cell_type": "code",
   "execution_count": null,
   "metadata": {
    "collapsed": true
   },
   "outputs": [],
   "source": [
    "n = len(df)\n",
    "input_shape = (256,256)\n",
    "X_train = np.zeros((n,256,256,3),dtype = np.int8)\n",
    "Y_train = np.zeros((n,len(breeds)),dtype = np.int8)\n",
    "for i in tqdm(range(n)):\n",
    "    X_train[i] = cv2.resize(cv2.imread('./input/train/%s.jpg'%df['id'][i]),input_shape)\n",
    "    Y_train[i][breed_to_number[df['breed'][i]]] = 1"
   ]
  },
  {
   "cell_type": "code",
   "execution_count": null,
   "metadata": {
    "collapsed": true
   },
   "outputs": [],
   "source": [
    "Y_ = np.zeros(n,dtype = np.int8)\n",
    "for i in tqdm(range(n)):\n",
    "    Y_[i] = breed_to_number[df['breed'][i]]\n",
    "Y_ = keras.utils.to_categorical(Y_,len(breeds))\n",
    "print(Y_.shape)"
   ]
  },
  {
   "cell_type": "code",
   "execution_count": null,
   "metadata": {
    "collapsed": true
   },
   "outputs": [],
   "source": [
    "print(X_train.shape[1:])"
   ]
  },
  {
   "cell_type": "code",
   "execution_count": null,
   "metadata": {
    "collapsed": true
   },
   "outputs": [],
   "source": [
    "model = Sequential()\n",
    "model.add(Conv2D(96,kernel_size=(11,11),\n",
    "                activation='relu',\n",
    "                strides=4,\n",
    "                input_shape=X_train.shape[1:]))\n",
    "model.add(MaxPooling2D(pool_size=(3,3),\n",
    "                      strides = 2))\n",
    "model.add(Conv2D(256,kernel_size=(5,5),\n",
    "                activation='relu'))\n",
    "model.add(MaxPooling2D(pool_size=(3,3),\n",
    "                      strides=2))\n",
    "model.add(Conv2D(384,kernel_size=(3,3),\n",
    "                activation='relu'))\n",
    "model.add(Conv2D(384,kernel_size=(3,3),\n",
    "                activation='relu'))\n",
    "model.add(Conv2D(256,kernel_size=(3,3),\n",
    "                activation='relu'))\n",
    "model.add(MaxPooling2D(pool_size=(3,3),\n",
    "                      strides=2))\n",
    "model.add(Dense(4096,activation='relu'))\n",
    "model.add(Dropout(0.5))\n",
    "model.add(Dense(4096,activation='relu'))\n",
    "model.add(Dropout(0.5))\n",
    "model.add(Flatten())\n",
    "model.add(Dense(120,activation='softmax'))\n",
    "\n",
    "model.compile(loss=keras.losses.categorical_crossentropy,\n",
    "             optimizer=keras.optimizers.Adam(),\n",
    "             metrics=['accuracy'])"
   ]
  },
  {
   "cell_type": "code",
   "execution_count": null,
   "metadata": {
    "collapsed": true
   },
   "outputs": [],
   "source": [
    "h = model.fit(X_train, Y_train, batch_size=128, epochs=10, validation_split=0.05)\n"
   ]
  }
 ],
 "metadata": {
  "kernelspec": {
   "display_name": "Python 3",
   "language": "python",
   "name": "python3"
  },
  "language_info": {
   "codemirror_mode": {
    "name": "ipython",
    "version": 3
   },
   "file_extension": ".py",
   "mimetype": "text/x-python",
   "name": "python",
   "nbconvert_exporter": "python",
   "pygments_lexer": "ipython3",
   "version": "3.5.4"
  }
 },
 "nbformat": 4,
 "nbformat_minor": 2
}
